{
 "cells": [
  {
   "cell_type": "markdown",
   "metadata": {},
   "source": [
    "# Lammpsと使う\n",
    "\n",
    "Juliaを使ってLammpsでの実験を効率化する方法について考えてみる"
   ]
  },
  {
   "cell_type": "markdown",
   "metadata": {},
   "source": [
    "## Lammpsの出力データを処理する\n",
    "\n",
    "- lammpsでは熱力学量をJSON形式で出力することができる\n",
    "- Juliaには[JSON.jl](https://github.com/JuliaIO/JSON.jl)があってJSON形式をうまく処理してくれる\n",
    "- この二つを組み合わせて効率よくデータを処理したい\n",
    "\n",
    "まずは，JSON形式で物理量を出力するLAMMPSスクリプトを示す"
   ]
  },
  {
   "cell_type": "markdown",
   "metadata": {},
   "source": [
    "```lammps\n",
    "# 3d Lennard-Jones melt\n",
    "\n",
    "units\t\tlj\n",
    "atom_style\tatomic\n",
    "\n",
    "lattice fcc 0.85\n",
    "region\t\tbox block 0 10 0 10 0 10\n",
    "create_box\t1 box\n",
    "create_atoms\t1 box\n",
    "mass\t\t1 1.0\n",
    "\n",
    "velocity\tall create 3.0 87287 loop geom\n",
    "\n",
    "pair_style\tlj/cut 2.5\n",
    "pair_coeff\t1 1 1.0 1.0 2.5\n",
    "\n",
    "neighbor\t0.3 bin\n",
    "neigh_modify\tevery 20 delay 0 check no\n",
    "\n",
    "# JSONファイルで出力する\n",
    "fix extra all print 50 \"\"\"{\"timestep\": $(step),\"vol\":$(vol),\"pxx\": $(pxx), \"pyy\": $(pyy),\"TotE\":$(etotal)}\"\"\" title \"\" file therm.json screen no\n",
    "\n",
    "fix 1 all nvt temp 1.0 1.0 $(dt*100)\n",
    "\n",
    "\n",
    "\n",
    "thermo_modify\tnorm no\n",
    "thermo\t\t100\n",
    "run\t\t100000\n",
    "```"
   ]
  },
  {
   "cell_type": "markdown",
   "metadata": {},
   "source": [
    "これを実行するとカレントディレクトリに`therm.json`が生成される。\n",
    "このファイルをJuliaで読み込む。"
   ]
  },
  {
   "cell_type": "code",
   "execution_count": null,
   "metadata": {},
   "outputs": [],
   "source": [
    "using JSON #JSON形式を扱うパッケージ\n",
    "using Plots"
   ]
  },
  {
   "cell_type": "code",
   "execution_count": null,
   "metadata": {},
   "outputs": [],
   "source": [
    "# JSONファイルの最初の行に生成される謎の空行を削除する関数\n",
    "function remove_blank_lines(file_path) \n",
    "    lines = readlines(file_path)\n",
    "    if !isempty(lines) && isempty(strip(lines[1]))\n",
    "        lines = lines[2:end]\n",
    "    end\n",
    "    open(file_path, \"w\") do file # Doブロック構文を使ったファイルの書き込み\n",
    "        foreach(line -> write(file, \"$line\\n\"), lines)\n",
    "    end\n",
    "end"
   ]
  },
  {
   "cell_type": "code",
   "execution_count": null,
   "metadata": {},
   "outputs": [],
   "source": [
    "# lammpsの出力するjsonファイルから熱力学量の時系列データを読み出す関数\n",
    "function readthermfile(filepath,thermname)\n",
    "    cps=Float64[] # 要素の型を特に指定して配列を宣言\n",
    "    open(filepath,\"r\") do file # doブロック構文を使ったファイルの読み書き,filemaneの関数を変数fileとして開く\n",
    "        for line in eachline(file) # foreach関数を使わずfor文で書いてみる,eachlineは行ごとにひとまとめにしたベクトルを返す\n",
    "            data = JSON.parse(line) # 読み込んだ行をJSON形式として解釈し，dict型の変数dataに代入\n",
    "            p = data[thermname] # dict型変数からキーワードを使って目的の物理量を取り出す\n",
    "            push!(cps,p) # それを配列に突っ込む\n",
    "        end\n",
    "    end\n",
    "    return cps\n",
    "end"
   ]
  },
  {
   "cell_type": "code",
   "execution_count": null,
   "metadata": {},
   "outputs": [],
   "source": [
    "filepath=\"./data/therm.json\" \n",
    "remove_blank_lines(filepath)\n",
    "Es = readthermfile(filepath,\"TotE\")\n",
    "plot(Es)"
   ]
  },
  {
   "cell_type": "markdown",
   "metadata": {},
   "source": [
    "変数`Es`に[therm.json](./data/therm.json)の`TotE`の値を配列として読み込むことができた"
   ]
  },
  {
   "cell_type": "markdown",
   "metadata": {},
   "source": [
    "## Lammpsのパラメタ変更を一括で行う\n",
    "\n",
    "- lammpsでパラメタを少しづつ変えた計算をしたいとする\n",
    "- たとえば温度を$0.5$から$15$まで$0.5$刻みに変化させたいとすると，素朴には30回パラメタを書き換えて計算を投げる必要がある\n",
    "- このような操作を自動化するためにはよくbashが用いられる\n",
    "- Juliaはスクリプト言語としての特徴を持っているので，Bashの代わりに用いるのにも向いている(要出典)\n",
    "- 例として，等温系のシミュレーション[in.melt](./lammps/in.melt)の温度を$0.5$から$15$まで$0.5$刻みに変化させたシミュレーションを実行する方法を考えてみる"
   ]
  },
  {
   "cell_type": "markdown",
   "metadata": {},
   "source": [
    "- まずは[in.template](./lammps/in.template)ファイルを作成する。\n",
    "- このファイルでは，変化させたいパラメタ(シミュレーション温度)の部分を文字列`TEMPERATURE_PLACEHOLDER`にしてある\n",
    "- Juliaを使ってこの文字列を値に置き換えたlammpsスクリプトファイルを生成し，そのファイルを元にしたジョブを投入する\n",
    "- もっと良いやり方募集中\n"
   ]
  },
  {
   "cell_type": "code",
   "execution_count": null,
   "metadata": {},
   "outputs": [],
   "source": [
    "templatepath=\"./lammps/in.template\" # テンプレートファイルのパスを指定\n",
    "temperatures=range(0.5,15,step=0.5) # 振りたいパラメタ(今回は温度)の配列を生成\n",
    "\n",
    "for temp in temperatures\n",
    "    template_script = read(templatepath,String) # ファイルをまるごと読み込む\n",
    "    mod_script = replace(template_script,\"TEMPERATURE_PLACEHOLDER\"=>string(temp))\n",
    "    fp=open(\"temp_script.in\",\"w\") \n",
    "    write(fp,mod_script)\n",
    "    close(fp)\n",
    "    run(`echo ここにT=$(temp)でのtemp_scripi.inを実行する文やジョブ投入の文を書きます`)\n",
    "    #run(`mpirun -n 4 lmp_mpi -in temp_script.in`) # 例\n",
    "    run(`rm temp_script.in`)\n",
    "end"
   ]
  },
  {
   "cell_type": "markdown",
   "metadata": {},
   "source": [
    "- 実際に用いるときは上記のようなコードを`subjob.jl`の名前で保存するなど，データ分析用のnoteookとは別にしておく方が良いかもしれない。(分析用のnotenookを実行する度に計算が走ると大変)\n",
    "- 出力されたファイル(例えば＊.json)を一括で任意のディレクトリに移動させるような操作もJuliaでできる"
   ]
  },
  {
   "cell_type": "markdown",
   "metadata": {},
   "source": []
  }
 ],
 "metadata": {
  "kernelspec": {
   "display_name": "Julia 1.9.2",
   "language": "julia",
   "name": "julia-1.9"
  },
  "language_info": {
   "file_extension": ".jl",
   "mimetype": "application/julia",
   "name": "julia",
   "version": "1.9.2"
  },
  "orig_nbformat": 4
 },
 "nbformat": 4,
 "nbformat_minor": 2
}
