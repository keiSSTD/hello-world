{
 "cells": [
  {
   "cell_type": "code",
   "execution_count": 5,
   "id": "25e746f3-476b-4ab0-9756-cc89d43688c2",
   "metadata": {},
   "outputs": [],
   "source": [
    "import re\n",
    "import csv\n",
    "\n",
    "with open('log.lammps', 'r') as f:\n",
    "\n",
    "    pattern = 'Step.*?\\n(.*?)Loop'\n",
    "    #pattern = 'Volume.*?\\n(.*?)Loop'\n",
    "    string = f.read()\n",
    "\n",
    "    extracted_data = []\n",
    "    for total_data in re.findall(pattern, string, flags=re.DOTALL): \n",
    "        for line in total_data.splitlines():\n",
    "            extracted_data.append(line.split())\n",
    "            #print(extracted_data)\n",
    "    \n",
    "#print(extracted_data)\n",
    "    #print(string)\n",
    "\n",
    "\n",
    "with open('Extracted_data.csv', 'w', newline='') as f:\n",
    "    write = csv.writer(f)\n",
    "    write.writerows(extracted_data)\n",
    "\n",
    "\n"
   ]
  },
  {
   "cell_type": "code",
   "execution_count": 1,
   "metadata": {},
   "outputs": [
    {
     "ename": "IndexError",
     "evalue": "list index out of range",
     "output_type": "error",
     "traceback": [
      "\u001b[1;31m---------------------------------------------------------------------------\u001b[0m",
      "\u001b[1;31mIndexError\u001b[0m                                Traceback (most recent call last)",
      "\u001b[1;32m<ipython-input-1-ef3c7908cf8f>\u001b[0m in \u001b[0;36m<module>\u001b[1;34m\u001b[0m\n\u001b[0;32m     12\u001b[0m     \u001b[0mdata_t\u001b[0m \u001b[1;33m=\u001b[0m \u001b[1;33m[\u001b[0m\u001b[0mlist\u001b[0m\u001b[1;33m(\u001b[0m\u001b[0mx\u001b[0m\u001b[1;33m)\u001b[0m \u001b[1;32mfor\u001b[0m \u001b[0mx\u001b[0m \u001b[1;32min\u001b[0m \u001b[0mzip\u001b[0m\u001b[1;33m(\u001b[0m\u001b[1;33m*\u001b[0m\u001b[0mdata\u001b[0m\u001b[1;33m)\u001b[0m\u001b[1;33m]\u001b[0m\u001b[1;33m\u001b[0m\u001b[1;33m\u001b[0m\u001b[0m\n\u001b[0;32m     13\u001b[0m \u001b[1;33m\u001b[0m\u001b[0m\n\u001b[1;32m---> 14\u001b[1;33m     \u001b[0mn\u001b[0m\u001b[1;33m=\u001b[0m\u001b[0mlen\u001b[0m\u001b[1;33m(\u001b[0m\u001b[0mdata_t\u001b[0m\u001b[1;33m[\u001b[0m\u001b[1;36m0\u001b[0m\u001b[1;33m]\u001b[0m\u001b[1;33m)\u001b[0m\u001b[1;33m\u001b[0m\u001b[1;33m\u001b[0m\u001b[0m\n\u001b[0m\u001b[0;32m     15\u001b[0m     \u001b[1;31m#print(data_t)\u001b[0m\u001b[1;33m\u001b[0m\u001b[1;33m\u001b[0m\u001b[1;33m\u001b[0m\u001b[0m\n\u001b[0;32m     16\u001b[0m     \u001b[1;31m#print(data_t[0])\u001b[0m\u001b[1;33m\u001b[0m\u001b[1;33m\u001b[0m\u001b[1;33m\u001b[0m\u001b[0m\n",
      "\u001b[1;31mIndexError\u001b[0m: list index out of range"
     ]
    }
   ],
   "source": [
    "import csv\n",
    "import numpy as np\n",
    "import pandas as pd\n",
    "import matplotlib.pyplot as plt\n",
    "with open('Extracted_data.csv') as f:\n",
    "    reader = csv.reader(f)\n",
    "    #これで２次元配列にする\n",
    "    data = [row for row in reader]\n",
    "    #print(data)\n",
    "\n",
    "    #行と列を転置\n",
    "    data_t = [list(x) for x in zip(*data)]\n",
    "    \n",
    "    n=len(data_t[0])\n",
    "    #print(data_t)\n",
    "    #print(data_t[0])\n",
    "    #print(data_t[2])\n",
    "    #print(data_t[3])\n",
    "\n",
    "\n",
    "    m=1\n",
    "    num=[]\n",
    "    k_data0=[]\n",
    "    for i in range(n):\n",
    "        if i%m==0:\n",
    "            num.append(i)\n",
    "            k_data0.append(data_t[0][i])\n",
    "\n",
    "    k_data1=[]\n",
    "    for j in range(n):\n",
    "        if j%m==0:\n",
    "            k_data1.append(data_t[4][j])\n",
    "\n",
    "    #print(k_data0)\n",
    "    k_data0 = map(float, k_data0)\n",
    "    k_data0= list(k_data0)\n",
    "    k_data1=map(float, k_data1)\n",
    "    k_data1=list(k_data1)\n",
    "\n",
    "\n",
    "   \n",
    "    plt.plot(k_data0,k_data1)\n",
    "    plt.plot()\n",
    "    plt.show()\n",
    "\n",
    "    #散布図 ウインドウとグラフを同時に作成\n",
    "    #fig, ax = plt.subplots()\n",
    "\n",
    "    # 散布図をプロット\n",
    "    #ax.scatter(k_data0, k_data1)\n",
    "    #ax.scatter(k_data0,k_data1)\n",
    "    #plt.show\n",
    "\n",
    "\n",
    "        "
   ]
  },
  {
   "cell_type": "code",
   "execution_count": 2,
   "metadata": {},
   "outputs": [
    {
     "name": "stdout",
     "output_type": "stream",
     "text": [
      "ガチでpython分からん\n"
     ]
    }
   ],
   "source": [
    "import numpy as np\n",
    "import pandas as pd\n",
    "print(\"ガチでpython分からん\")"
   ]
  },
  {
   "cell_type": "code",
   "execution_count": null,
   "metadata": {},
   "outputs": [],
   "source": []
  },
  {
   "cell_type": "code",
   "execution_count": null,
   "metadata": {},
   "outputs": [],
   "source": []
  },
  {
   "cell_type": "code",
   "execution_count": null,
   "metadata": {},
   "outputs": [],
   "source": []
  }
 ],
 "metadata": {
  "kernelspec": {
   "display_name": "Python 3 (ipykernel)",
   "language": "python",
   "name": "python3"
  },
  "language_info": {
   "codemirror_mode": {
    "name": "ipython",
    "version": 3
   },
   "file_extension": ".py",
   "mimetype": "text/x-python",
   "name": "python",
   "nbconvert_exporter": "python",
   "pygments_lexer": "ipython3",
   "version": "3.8.8"
  }
 },
 "nbformat": 4,
 "nbformat_minor": 5
}
