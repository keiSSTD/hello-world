{
 "cells": [
  {
   "cell_type": "code",
   "execution_count": null,
   "metadata": {},
   "outputs": [],
   "source": [
    "# パッケージの読み込み\n",
    "using Plots # データの可視化パッケージ"
   ]
  },
  {
   "cell_type": "markdown",
   "metadata": {},
   "source": [
    "# データ処理の方法\n",
    "\n",
    "このノートでは，\n",
    "\n",
    "- ファイルの書き込み・読み込み\n",
    "- 平均,分散，標準偏差の計算\n",
    "- いろんな種類のプロット\n",
    "- 線形フィット\n",
    "\n",
    "などについて説明する。\n",
    "\n"
   ]
  },
  {
   "cell_type": "markdown",
   "metadata": {},
   "source": [
    "まず，通常のテキストファイルを読み取ることを考える。\n",
    "例として，スペースで区切られた各列に何かの物理量の時系列データが記録されている[./data/press.txt](./data/press.txt)を読み込んで処理してみる。\n",
    "\n",
    "まずは読み込みのための関数を示す。"
   ]
  },
  {
   "cell_type": "code",
   "execution_count": null,
   "metadata": {},
   "outputs": [],
   "source": [
    "function readdata(filename; k=1) \n",
    "    data= Float64[] \n",
    "    fp = open(filename,\"r\") \n",
    "    for line in eachline(fp) \n",
    "        #println(line)\n",
    "        row=split(line)\n",
    "        #println(row)\n",
    "        e = parse(Float64,row[k])\n",
    "        println(e)\n",
    "        push!(data,e)\n",
    "    end\n",
    "    close(fp)\n",
    "    return data\n",
    "end"
   ]
  },
  {
   "cell_type": "code",
   "execution_count": null,
   "metadata": {},
   "outputs": [],
   "source": [
    "ns=readdata(\"./data/therm.txt\");"
   ]
  },
  {
   "cell_type": "code",
   "execution_count": null,
   "metadata": {},
   "outputs": [],
   "source": [
    "filename = \"./data/therm.txt\"\n",
    "tote=readdata(filename,k=2)\n",
    "px=readdata(filename,k=3)\n",
    "py=readdata(filename,k=4)\n",
    "typeof(ns)"
   ]
  },
  {
   "cell_type": "markdown",
   "metadata": {},
   "source": [
    "nsを横軸に，toteを縦軸にしてグラフをプロットしたいならば以下のようにする。"
   ]
  },
  {
   "cell_type": "code",
   "execution_count": null,
   "metadata": {},
   "outputs": [],
   "source": [
    "plot(ns,tote,xlabel=\"n\",ylabel=\"TotE\",label=\"TotE\")"
   ]
  },
  {
   "cell_type": "markdown",
   "metadata": {},
   "source": [
    "`tote`のインデックスを横軸に，値を縦軸にプロットするだけならば"
   ]
  },
  {
   "cell_type": "code",
   "execution_count": null,
   "metadata": {},
   "outputs": [],
   "source": [
    "plot(tote)"
   ]
  },
  {
   "cell_type": "markdown",
   "metadata": {},
   "source": [
    "のようにすれば良い。\n",
    "\n",
    "pxとpyのグラフを重ねてプロットしたいならば，"
   ]
  },
  {
   "cell_type": "code",
   "execution_count": null,
   "metadata": {},
   "outputs": [],
   "source": [
    "plot(ns,px,label=\"px\")\n",
    "plot!(ns,py,label=\"py\")"
   ]
  },
  {
   "cell_type": "markdown",
   "metadata": {},
   "source": [
    "$50$個目から$1001$個目の`tote`の値$E_i$の平均値$\\mu$を計算し，$|E_i-\\mu|$をプロットすることを考える。"
   ]
  },
  {
   "cell_type": "code",
   "execution_count": null,
   "metadata": {},
   "outputs": [],
   "source": [
    "μ = sum(tote[50:1001])/length(tote[50:1001]) "
   ]
  },
  {
   "cell_type": "code",
   "execution_count": null,
   "metadata": {},
   "outputs": [],
   "source": [
    "using Statistics # 統計処理のパッケージ\n",
    "# mean() 引数に配列を与えるとその平均を計算してくれる\n",
    "μ = mean(tote[50:end]) # 1001個が最後なので，endでも指定可能"
   ]
  },
  {
   "cell_type": "code",
   "execution_count": null,
   "metadata": {},
   "outputs": [],
   "source": [
    "s = sqrt(var(tote[50:end])) # var()は不偏分散(n-1で割るほう)を計算してくれる,標本分散(nで割るほう)を計算したいならvar(tote[50:end],corrected=false)とする"
   ]
  },
  {
   "cell_type": "code",
   "execution_count": null,
   "metadata": {},
   "outputs": [],
   "source": [
    "sqrt(var(tote[50:end],corrected=false))"
   ]
  },
  {
   "cell_type": "code",
   "execution_count": null,
   "metadata": {},
   "outputs": [],
   "source": [
    "sabun=abs.(tote.-μ)"
   ]
  },
  {
   "cell_type": "code",
   "execution_count": null,
   "metadata": {},
   "outputs": [],
   "source": [
    "plot(ns,sabun,yscale=:log10)"
   ]
  },
  {
   "cell_type": "markdown",
   "metadata": {},
   "source": [
    "横軸の領域を$0$から$25000$までに絞りたいときは，"
   ]
  },
  {
   "cell_type": "code",
   "execution_count": null,
   "metadata": {},
   "outputs": [],
   "source": [
    "plot(ns,sabun,yscale=:log10,xlims=(0,25000))"
   ]
  },
  {
   "cell_type": "markdown",
   "metadata": {},
   "source": [
    "ここに，\n",
    "$$\n",
    "    y = Ae^{-n/n_r}\n",
    "$$\n",
    "を重ねてプロットしたいときは，"
   ]
  },
  {
   "cell_type": "code",
   "execution_count": null,
   "metadata": {},
   "outputs": [],
   "source": [
    "f(n) = 1000*ℯ^(-n/1000)"
   ]
  },
  {
   "cell_type": "code",
   "execution_count": null,
   "metadata": {},
   "outputs": [],
   "source": [
    "plot!(f)"
   ]
  },
  {
   "cell_type": "code",
   "execution_count": null,
   "metadata": {},
   "outputs": [],
   "source": [
    "# sampn=range(1,10000,length=3)\n",
    "# plot!(sampn,f.(sampn))"
   ]
  },
  {
   "cell_type": "markdown",
   "metadata": {},
   "source": [
    "縦線や横線をひきたいときは，"
   ]
  },
  {
   "cell_type": "code",
   "execution_count": null,
   "metadata": {},
   "outputs": [],
   "source": [
    "vline!([0.25*10^4,0.5*10^4])"
   ]
  },
  {
   "cell_type": "code",
   "execution_count": null,
   "metadata": {},
   "outputs": [],
   "source": [
    "hline!([1,100],label=false)"
   ]
  },
  {
   "cell_type": "markdown",
   "metadata": {},
   "source": [
    "のようにする。"
   ]
  },
  {
   "cell_type": "markdown",
   "metadata": {},
   "source": [
    "ヒストグラムの扱いかたを，`tote`のヒストグラムを例に示す。"
   ]
  },
  {
   "cell_type": "code",
   "execution_count": null,
   "metadata": {},
   "outputs": [],
   "source": [
    "histogram(tote[50:end]) "
   ]
  },
  {
   "cell_type": "code",
   "execution_count": null,
   "metadata": {},
   "outputs": [],
   "source": [
    "histogram(tote[50:end],bin=-15900:50:-15100,fa=0.3, lc=\"#FFFFFF\" ,label=\"-15900:50:-15100\") # 特にbin幅を指定する方法"
   ]
  },
  {
   "cell_type": "code",
   "execution_count": null,
   "metadata": {},
   "outputs": [],
   "source": [
    "histogram!(tote[50:end],bin=-15900:25:-15100,fa=0.3, lc=\"#FFFFFF\" ,label=\"-15900:25:-15100\")\n",
    "histogram!(tote[50:end],bin=-15900:12.5:-15100,fa=0.3, lc=\"#FFFFFF\" ,label=\"-15900:12.5:-15100\")"
   ]
  },
  {
   "cell_type": "markdown",
   "metadata": {},
   "source": [
    "確率分布にしたいならば，"
   ]
  },
  {
   "cell_type": "code",
   "execution_count": null,
   "metadata": {},
   "outputs": [],
   "source": [
    "histogram(tote[50:end],bin=-15900:50:-15100,fa=0.3, lc=\"#FFFFFF\" ,label=\"-15900:50:-15100\",norm=true)\n",
    "histogram!(tote[50:end],bin=-15900:25:-15100,fa=0.3, lc=\"#FFFFFF\" ,label=\"-15900:25:-15100\",norm=true)\n",
    "histogram!(tote[50:end],bin=-15900:12.5:-15100,fa=0.3, lc=\"#FFFFFF\" ,label=\"-15900:12.5:-15100\",norm=true)"
   ]
  },
  {
   "cell_type": "markdown",
   "metadata": {},
   "source": [
    "- グラフの細かい制御や他の種類のグラフの描き方は[https://docs.juliaplots.org/latest/tutorial/](https://docs.juliaplots.org/latest/tutorial/)を見てがんばる\n",
    "- [https://docs.makie.org/stable/](https://docs.makie.org/stable/)を使えば動的な描画などの高度な機能が使える\n",
    "- 凝ったグラフを描きたいときは自分で実装することも考える\n",
    "- [Statistics.jl](https://juliastats.org/Statistics.jl/dev/)の他の機能も便利"
   ]
  }
 ],
 "metadata": {
  "kernelspec": {
   "display_name": "Julia 1.9.2",
   "language": "julia",
   "name": "julia-1.9"
  },
  "language_info": {
   "file_extension": ".jl",
   "mimetype": "application/julia",
   "name": "julia",
   "version": "1.9.2"
  },
  "orig_nbformat": 4
 },
 "nbformat": 4,
 "nbformat_minor": 2
}
