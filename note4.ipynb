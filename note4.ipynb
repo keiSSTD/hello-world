{
 "cells": [
  {
   "cell_type": "code",
   "execution_count": null,
   "metadata": {},
   "outputs": [],
   "source": [
    "using Plots"
   ]
  },
  {
   "cell_type": "markdown",
   "metadata": {},
   "source": [
    "# その他\n",
    "\n",
    "- SymPy.jlの使い方\n",
    "- 並列計算\n",
    "- アニメーションの作成\n",
    "- パッケージの紹介"
   ]
  },
  {
   "cell_type": "markdown",
   "metadata": {},
   "source": [
    "# SymPy.jlの使い方\n",
    "\n",
    "- [降旗 大介「A1. SymPy in Julia: 数式処理」](http://www.cas.cmc.osaka-u.ac.jp/~paoon/Lectures/2020-8Semester-NA-basic/a1-symbolic-calculation/)\n",
    "\n",
    "工事中"
   ]
  },
  {
   "cell_type": "markdown",
   "metadata": {},
   "source": [
    "# アニメーションの作成\n",
    "\n",
    "工事中\n"
   ]
  },
  {
   "cell_type": "code",
   "execution_count": null,
   "metadata": {},
   "outputs": [],
   "source": [
    "g = 9.8\n",
    "v0=35\n",
    "θ=π/2.5\n",
    "vx0=v0*cos(θ)\n",
    "vy0=v0*sin(θ)\n",
    "ts = range(0,10,step=0.1)\n",
    "xs = vx0.*ts\n",
    "ys = -1/2 .* g.*ts.^2 .+vy0.*ts \n",
    "xvs= vx0.+0 .*ts\n",
    "yvs=vy0 .-g .*ts\n",
    "theta = range(0,2π,step=0.01)\n",
    "r = 5 # 質点の半径\n",
    "anim = Animation()\n",
    "for i in 1:length(ts)\n",
    "    plt=plot(xs[i] .+r*cos.(theta),ys[i].+r*sin.(theta),aspectratio=1,xlims=(-10,100),ylims=(-10,100),label=\"\",xlabel=\"x\",ylabel=\"y\",linewidth=5)\n",
    "    #plt=plot!(xs[1:i],ys[1:i],label=\"\")\n",
    "    plt=plot!([xs[i],xs[i]+xvs[i]], [ys[i],ys[i]+yvs[i]], arrow = arrow(),label=\"v\",linewidth=5)\n",
    "    plt=plot!([xs[i],xs[i]], [ys[i],ys[i]+yvs[i]], arrow = arrow(),label=\"vy\",linewidth=5)\n",
    "    plt=plot!([xs[i],xs[i]+xvs[i]], [ys[i],ys[i]], arrow = arrow(),label=\"vx\",linewidth=5)\n",
    "    frame(anim,plt)\n",
    "end\n",
    "gif(anim,\"./output/projec.gif\",fps=20)"
   ]
  },
  {
   "cell_type": "markdown",
   "metadata": {},
   "source": [
    "他にも`@animate`を使ったアニメーションの生成などもある"
   ]
  },
  {
   "cell_type": "markdown",
   "metadata": {},
   "source": [
    "# 並列化\n",
    "\n",
    "\n",
    "\n",
    "工事中\n",
    "\n"
   ]
  },
  {
   "cell_type": "markdown",
   "metadata": {},
   "source": [
    "# パッケージ紹介(ほんの一部)\n",
    "\n",
    "今回登場したパッケージとほかの便利なパッケージ(一部)を列挙\n",
    "\n",
    "\n",
    "- LinearAlgebra 線形代数\n",
    "- Yao 量子回路\n",
    "- Plots グラフ描画\n",
    "- StatsPlots 統計関連のグラフを強化\n",
    "- SymPy(.jl) 数式処理\n",
    "- PyCall Pythonのパッケージを呼び出して使う\n",
    "- SpecialFunctions　特殊関数\n",
    "- Statistics 統計処理\n",
    "- Distributions 確率分布など\n",
    "- Dates `today()`,`now()`などの関数で日時を出力(実験ノートの記録に便利)\n",
    "\n",
    "Juliaのその他のパッケージについては[Julia Packages](https://julialang.org/packages/)からリンクされているコンテンツが参考になる"
   ]
  },
  {
   "cell_type": "code",
   "execution_count": null,
   "metadata": {},
   "outputs": [],
   "source": [
    "using Dates\n",
    "println(today())\n",
    "println(now())"
   ]
  },
  {
   "cell_type": "code",
   "execution_count": null,
   "metadata": {},
   "outputs": [],
   "source": [
    "d=now()\n",
    "fp=open(\"./output/data.dat\",\"w\")\n",
    "println(fp,\"#実験日時:$(d)\")\n",
    "println(fp,\"ここに実験の記録をします\")\n",
    "close(fp)"
   ]
  }
 ],
 "metadata": {
  "kernelspec": {
   "display_name": "Julia 1.9.2",
   "language": "julia",
   "name": "julia-1.9"
  },
  "language_info": {
   "file_extension": ".jl",
   "mimetype": "application/julia",
   "name": "julia",
   "version": "1.9.2"
  },
  "orig_nbformat": 4
 },
 "nbformat": 4,
 "nbformat_minor": 2
}
